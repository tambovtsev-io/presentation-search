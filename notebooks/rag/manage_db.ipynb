{
 "cells": [
  {
   "cell_type": "code",
   "execution_count": 1,
   "metadata": {},
   "outputs": [
    {
     "data": {
      "text/plain": [
       "True"
      ]
     },
     "execution_count": 1,
     "metadata": {},
     "output_type": "execute_result"
    }
   ],
   "source": [
    "%load_ext autoreload\n",
    "%autoreload 2\n",
    "import sys, os\n",
    "sys.path.append(os.path.abspath(\"../../\"))\n",
    "from dotenv import load_dotenv\n",
    "load_dotenv()"
   ]
  },
  {
   "cell_type": "code",
   "execution_count": 2,
   "metadata": {},
   "outputs": [],
   "source": [
    "from src import (\n",
    "    PresentationAnalysis,\n",
    "    SlideAnalysis,\n",
    "    Config,\n",
    "    display_chain_outputs\n",
    ")\n",
    "from src.chains.chains import FindPdfChain\n",
    "from src.config.output_formatting import display_presentation_analysis, display_presentation_from_file\n",
    "from src.testing_utils import EchoLLM\n",
    "import logging\n",
    "from src.config.output_formatting import display_search_result_page\n",
    "\n",
    "\n",
    "from src.rag import ChromaSlideStore, create_slides_database\n",
    "\n",
    "\n",
    "config = Config()"
   ]
  },
  {
   "cell_type": "code",
   "execution_count": 3,
   "metadata": {},
   "outputs": [],
   "source": [
    "collection_name = \"pres1\"\n",
    "\n",
    "storage = ChromaSlideStore(collection_name)"
   ]
  },
  {
   "cell_type": "code",
   "execution_count": 4,
   "metadata": {},
   "outputs": [
    {
     "name": "stdout",
     "output_type": "stream",
     "text": [
      "29\n"
     ]
    },
    {
     "data": {
      "text/plain": [
       "['data/raw/data-science/aiconf/День1/2.Полусфера/5.Вместо зеленого экрана_Елизавета Петрова_вер.4.pdf',\n",
       " 'data/raw/business/insider_infor/dodo-brands-monthly-trading-update-sep-2024.pdf',\n",
       " 'data/raw/data-science/aiconf/День1/3.Аудитория 1/4.Как мы делаем прагматичный поиск и Q&A без LLM_Вадим Захаров_вер.6.pdf',\n",
       " 'data/raw/data-science/aiconf/День1/4.Пресс-центр/3.Разметка будущего как GPT помогает обучать модели_Герман Ганус_вер.4.pdf',\n",
       " 'data/raw/business/business_incognita/АИМ_Коммунальное_хозяйство_2024_31_стр.pdf',\n",
       " 'data/raw/data-science/aiconf/День1/1.Сфера/2.Kolmogorov Arnold Networks_Павел Плюснин_вер.2.pdf',\n",
       " 'data/raw/business/insider_infor/3. Тенденции рынка труда 2024.pdf',\n",
       " 'data/raw/business/business_incognita/SP_Навигатор_по_мерам_гос_поддержки_2024_74_стр.pdf',\n",
       " 'data/raw/data-science/aiconf/День1/3.Аудитория 1/6.Увеличиваем число обнаружений в задачах_Дмитрий Колесников_вер.4.pdf',\n",
       " 'data/raw/data-science/aiconf/День1/1.Сфера/1.За рамками сценария_Эмели Драль_вер.3.pdf',\n",
       " 'data/raw/data-science/aiconf/День1/2.Полусфера/6.LLM говорит мультимодальные задачи в речевом домене_Борис Жестков_вер.3.pdf',\n",
       " 'data/raw/data-science/aiconf/День1/3.Аудитория 1/1.Превращаем нейросети в SOTA и для табличных задач_Олег Сидоршин_вер.3.pdf',\n",
       " 'data/raw/data-science/aiconf/День1/4.Пресс-центр/4.Люди не нужны_Данила Бочарников_вер.3.pdf',\n",
       " 'data/raw/data-science/aiconf/День1/4.Пресс-центр/1.Разметка датасетов в эпоху мультимодальности_Дмитрий Антипов_вер.4.pdf',\n",
       " 'data/raw/data-science/aiconf/День1/4.Пресс-центр/5.Жестовый язык особенности сбора данных, опыт и результаты_Петр Суровцев_вер.3.pdf',\n",
       " 'data/raw/business/insider_infor/AXES_х_Понимаю_Исследование_практик_благополучия_2024.pdf',\n",
       " 'data/raw/data-science/aiconf/День1/3.Аудитория 1/3.AutoFE-сапер_Валерия Дымбицкая_вер.3.pdf',\n",
       " 'data/raw/business/insider_infor/ЯиП_Энергетический_переход_Вызовы_и_возможности_для_России.pdf',\n",
       " 'data/raw/data-science/yappi-days/Кинозал/2. Пристягина Матрицы компетенций.pdf',\n",
       " 'data/raw/data-science/aiconf/День2/1.Сфера/1.Мультимодальные рекомендации в Wildberries_Степан Евстифеев_вер.2.pdf',\n",
       " 'data/raw/data-science/aiconf/День1/2.Полусфера/4.Эволюция отбора кандидатов в системе товарных рекомендаций Ozon_Александр Краснов_вер.3.pdf',\n",
       " 'data/raw/business/business_incognita/Kept_Подвижной состав РФ_2024 (20 стр).pdf',\n",
       " 'data/raw/data-science/aiconf/День1/2.Полусфера/7.Генеративные модели для работы с кодом_Евгений Колесников_вер.1.pdf',\n",
       " 'data/raw/data-science/aiconf/День1/2.Полусфера/1.Визуальные языковые модели от разбора архитектуры до запуска_Эмиль Шакиров_вер.3.pdf',\n",
       " 'data/work/dodo-brands-monthly-trading-update-sep-2024.pdf',\n",
       " 'data/raw/data-science/aiconf/День2/1.Сфера/2.Языковые модели и основы рационального мышления_Ирина Пионтковская_вер.3.pdf',\n",
       " 'data/raw/business/business_incognita/РАЭК_Экономика_digital_маркетинга_2024_18_стр.pdf',\n",
       " 'data/raw/data-science/aiconf/День1/1.Сфера/4.Обзор уязвимостей и техник защиты для LLM_Евгений Кокуйкин_вер.3.pdf',\n",
       " 'data/raw/data-science/aiconf/День1/4.Пресс-центр/2. МК «Получение высококачественных данных для обучения ИИ-моделей»_Олег Секачев_вер.4.pdf']"
      ]
     },
     "execution_count": 4,
     "metadata": {},
     "output_type": "execute_result"
    }
   ],
   "source": [
    "items = storage._collection.get()\n",
    "metadatas = items[\"metadatas\"]\n",
    "paths = [m[\"pdf_path\"] for m in metadatas]\n",
    "\n",
    "unique_paths = list(set(paths))\n",
    "print(len(unique_paths))\n",
    "unique_paths"
   ]
  },
  {
   "cell_type": "code",
   "execution_count": null,
   "metadata": {},
   "outputs": [],
   "source": [
    "# storage._client.delete_collection(collection_name)"
   ]
  },
  {
   "cell_type": "code",
   "execution_count": null,
   "metadata": {},
   "outputs": [],
   "source": [
    "del storage"
   ]
  },
  {
   "cell_type": "code",
   "execution_count": null,
   "metadata": {},
   "outputs": [],
   "source": []
  }
 ],
 "metadata": {
  "kernelspec": {
   "display_name": ".venv",
   "language": "python",
   "name": "python3"
  },
  "language_info": {
   "codemirror_mode": {
    "name": "ipython",
    "version": 3
   },
   "file_extension": ".py",
   "mimetype": "text/x-python",
   "name": "python",
   "nbconvert_exporter": "python",
   "pygments_lexer": "ipython3",
   "version": "3.10.12"
  }
 },
 "nbformat": 4,
 "nbformat_minor": 2
}
