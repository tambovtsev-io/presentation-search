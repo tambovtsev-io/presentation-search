{
 "cells": [
  {
   "cell_type": "code",
   "execution_count": 1,
   "metadata": {},
   "outputs": [
    {
     "data": {
      "text/plain": [
       "True"
      ]
     },
     "execution_count": 1,
     "metadata": {},
     "output_type": "execute_result"
    }
   ],
   "source": [
    "%load_ext autoreload\n",
    "%autoreload 2\n",
    "import sys, os\n",
    "sys.path.append(os.path.abspath(\"../../\"))\n",
    "from dotenv import load_dotenv\n",
    "load_dotenv()"
   ]
  },
  {
   "cell_type": "code",
   "execution_count": 2,
   "metadata": {},
   "outputs": [
    {
     "name": "stderr",
     "output_type": "stream",
     "text": [
      "/home/groot/Desktop/projects/global/PresRAG/presentation-rag/src/config/model_setup.py:36: LangChainDeprecationWarning: The class `ChatOpenAI` was deprecated in LangChain 0.0.10 and will be removed in 1.0. An updated version of the class exists in the :class:`~langchain-openai package and should be used instead. To use it run `pip install -U :class:`~langchain-openai` and import as `from :class:`~langchain_openai import ChatOpenAI``.\n",
      "  return ChatOpenAI(\n"
     ]
    }
   ],
   "source": [
    "from src.config import Config\n",
    "from src.rag import ChromaSlideStore\n",
    "import pandas as pd\n",
    "\n",
    "from src.eval import EvaluationConfig, RAGEvaluator\n",
    "from src.config import load_spreadsheet\n",
    "\n",
    "from langchain.callbacks import tracing_v2_enabled\n",
    "\n",
    "config = Config()"
   ]
  },
  {
   "cell_type": "code",
   "execution_count": 3,
   "metadata": {},
   "outputs": [],
   "source": [
    "# Enable LangSmith tracing\n",
    "os.environ[\"LANGCHAIN_TRACING_V2\"] = \"true\"\n",
    "os.environ[\"LANGCHAIN_ENDPOINT\"] = \"https://api.smith.langchain.com\"\n",
    "os.environ[\"LANGCHAIN_PROJECT\"] = \"default\""
   ]
  },
  {
   "cell_type": "code",
   "execution_count": 4,
   "metadata": {},
   "outputs": [
    {
     "data": {
      "text/html": [
       "<div>\n",
       "<style scoped>\n",
       "    .dataframe tbody tr th:only-of-type {\n",
       "        vertical-align: middle;\n",
       "    }\n",
       "\n",
       "    .dataframe tbody tr th {\n",
       "        vertical-align: top;\n",
       "    }\n",
       "\n",
       "    .dataframe thead th {\n",
       "        text-align: right;\n",
       "    }\n",
       "</style>\n",
       "<table border=\"1\" class=\"dataframe\">\n",
       "  <thead>\n",
       "    <tr style=\"text-align: right;\">\n",
       "      <th></th>\n",
       "      <th>pres_name</th>\n",
       "      <th>question</th>\n",
       "      <th>page</th>\n",
       "      <th>content</th>\n",
       "      <th>comment</th>\n",
       "      <th>MinScorer</th>\n",
       "      <th>Hyperbolic Scorer</th>\n",
       "    </tr>\n",
       "  </thead>\n",
       "  <tbody>\n",
       "    <tr>\n",
       "      <th>9</th>\n",
       "      <td>6.Увеличиваем число обнаружений в задачах_Дмит...</td>\n",
       "      <td>Презентация про компьютерное зрение в которой ...</td>\n",
       "      <td>18</td>\n",
       "      <td>visual</td>\n",
       "      <td>Hyperbolic нашел но другой слайд из этой презы</td>\n",
       "      <td>FAIL</td>\n",
       "      <td>PASS</td>\n",
       "    </tr>\n",
       "    <tr>\n",
       "      <th>18</th>\n",
       "      <td>1.За рамками сценария_Эмели Драль_вер.3</td>\n",
       "      <td>В какой презентации обсуждали методы оценки LLM</td>\n",
       "      <td>38</td>\n",
       "      <td>general</td>\n",
       "      <td>NaN</td>\n",
       "      <td>PASS</td>\n",
       "      <td>PASS</td>\n",
       "    </tr>\n",
       "    <tr>\n",
       "      <th>8</th>\n",
       "      <td>Kept_Подвижной состав РФ_2024 (20 стр)</td>\n",
       "      <td>Про что рассказывал Сергей Казачков?</td>\n",
       "      <td>2,20</td>\n",
       "      <td>text</td>\n",
       "      <td>NaN</td>\n",
       "      <td>PASS</td>\n",
       "      <td>PASS</td>\n",
       "    </tr>\n",
       "    <tr>\n",
       "      <th>24</th>\n",
       "      <td>2.Kolmogorov Arnold Networks_Павел Плюснин_вер.2</td>\n",
       "      <td>Презентация про нейросети Колмогорова-Арнольда</td>\n",
       "      <td></td>\n",
       "      <td>general</td>\n",
       "      <td>NaN</td>\n",
       "      <td>NaN</td>\n",
       "      <td>NaN</td>\n",
       "    </tr>\n",
       "    <tr>\n",
       "      <th>15</th>\n",
       "      <td>AXES_х_Понимаю_Исследование_практик_благополуч...</td>\n",
       "      <td>На слайде были результаты опроса насчет отрасл...</td>\n",
       "      <td>5</td>\n",
       "      <td>visual</td>\n",
       "      <td>NaN</td>\n",
       "      <td>PASS</td>\n",
       "      <td>PASS</td>\n",
       "    </tr>\n",
       "  </tbody>\n",
       "</table>\n",
       "</div>"
      ],
      "text/plain": [
       "                                            pres_name  \\\n",
       "9   6.Увеличиваем число обнаружений в задачах_Дмит...   \n",
       "18            1.За рамками сценария_Эмели Драль_вер.3   \n",
       "8              Kept_Подвижной состав РФ_2024 (20 стр)   \n",
       "24   2.Kolmogorov Arnold Networks_Павел Плюснин_вер.2   \n",
       "15  AXES_х_Понимаю_Исследование_практик_благополуч...   \n",
       "\n",
       "                                             question  page  content  \\\n",
       "9   Презентация про компьютерное зрение в которой ...    18   visual   \n",
       "18    В какой презентации обсуждали методы оценки LLM    38  general   \n",
       "8                Про что рассказывал Сергей Казачков?  2,20     text   \n",
       "24     Презентация про нейросети Колмогорова-Арнольда        general   \n",
       "15  На слайде были результаты опроса насчет отрасл...     5   visual   \n",
       "\n",
       "                                           comment MinScorer Hyperbolic Scorer  \n",
       "9   Hyperbolic нашел но другой слайд из этой презы      FAIL              PASS  \n",
       "18                                             NaN      PASS              PASS  \n",
       "8                                              NaN      PASS              PASS  \n",
       "24                                             NaN       NaN               NaN  \n",
       "15                                             NaN      PASS              PASS  "
      ]
     },
     "execution_count": 4,
     "metadata": {},
     "output_type": "execute_result"
    }
   ],
   "source": [
    "from ragas.metrics import (\n",
    "    AnswerCorrectness,\n",
    "    AnswerRelevancy,\n",
    "    ContextPrecision,\n",
    "    ContextRecall,\n",
    "    Faithfulness,\n",
    ")\n",
    "\n",
    "from src.rag.score import (\n",
    "    ExponentialScorer, HyperbolicScorer, MinScorer,\n",
    "    ExponentialWeightedScorer, HyperbolicWeightedScorer\n",
    ")\n",
    "\n",
    "# Initialize components\n",
    "embeddings = config.embedding_config.load_vsegpt()\n",
    "storage = ChromaSlideStore(collection_name=\"pres0\", embedding_model=embeddings)\n",
    "\n",
    "\n",
    "# Load questions if needed\n",
    "sheet_id = os.environ[\"BENCHMARK_SPREADSHEET_ID\"]\n",
    "df_questions = RAGEvaluator.load_questions_from_sheet(sheet_id)\n",
    "df_questions.sample(5)"
   ]
  },
  {
   "cell_type": "code",
   "execution_count": 10,
   "metadata": {},
   "outputs": [
    {
     "name": "stdout",
     "output_type": "stream",
     "text": [
      "Using existing dataset: PresRetrieve_25\n"
     ]
    },
    {
     "data": {
      "text/plain": [
       "Dataset(name='PresRetrieve_25', description=None, data_type=<DataType.kv: 'kv'>, id=UUID('0e7ba37d-c0d5-4ab0-b518-d15880c6059d'), created_at=datetime.datetime(2024, 12, 3, 10, 21, 32, 403478, tzinfo=datetime.timezone.utc), modified_at=datetime.datetime(2024, 12, 3, 10, 21, 32, 403478, tzinfo=datetime.timezone.utc), example_count=25, session_count=0, last_session_start_time=None, inputs_schema=None, outputs_schema=None)"
      ]
     },
     "execution_count": 10,
     "metadata": {},
     "output_type": "execute_result"
    }
   ],
   "source": [
    "dataset_name = \"PresRetrieve_25\"\n",
    "# df_eval = df_questions.sample(5)\n",
    "df_eval = df_questions\n",
    "\n",
    "eval_config = EvaluationConfig(\n",
    "    dataset_name=dataset_name,\n",
    "    ragas_metrics=[],\n",
    "    scorers=[MinScorer(), ExponentialScorer(), HyperbolicScorer(), ExponentialWeightedScorer(), HyperbolicWeightedScorer()]\n",
    ")\n",
    "llm = Config().model_config.load_vsegpt(model=\"openai/gpt-4o-mini\", temperature=0.7)\n",
    "\n",
    "evaluator = RAGEvaluator(storage=storage, config=eval_config, llm=llm)\n",
    "evaluator.create_or_load_dataset(df_eval)"
   ]
  },
  {
   "cell_type": "code",
   "execution_count": null,
   "metadata": {},
   "outputs": [
    {
     "name": "stdout",
     "output_type": "stream",
     "text": [
      "View the evaluation results for experiment: 'min-982038e6' at:\n",
      "https://smith.langchain.com/o/44cd8e12-235d-52ea-a8de-1063f25bb9a4/datasets/0e7ba37d-c0d5-4ab0-b518-d15880c6059d/compare?selectedSessions=be6cb0ce-83e1-42a2-8d03-83cd08e836b7\n",
      "\n",
      "\n"
     ]
    },
    {
     "data": {
      "application/vnd.jupyter.widget-view+json": {
       "model_id": "e1ba907f19c84b80aa5164b0a7af3557",
       "version_major": 2,
       "version_minor": 0
      },
      "text/plain": [
       "0it [00:00, ?it/s]"
      ]
     },
     "metadata": {},
     "output_type": "display_data"
    }
   ],
   "source": [
    "import nest_asyncio\n",
    "nest_asyncio.apply()\n",
    "# Run evaluation\n",
    "evaluator.run_evaluation()"
   ]
  },
  {
   "cell_type": "code",
   "execution_count": null,
   "metadata": {},
   "outputs": [],
   "source": []
  }
 ],
 "metadata": {
  "kernelspec": {
   "display_name": ".venv",
   "language": "python",
   "name": "python3"
  },
  "language_info": {
   "codemirror_mode": {
    "name": "ipython",
    "version": 3
   },
   "file_extension": ".py",
   "mimetype": "text/x-python",
   "name": "python",
   "nbconvert_exporter": "python",
   "pygments_lexer": "ipython3",
   "version": "3.10.12"
  }
 },
 "nbformat": 4,
 "nbformat_minor": 2
}
