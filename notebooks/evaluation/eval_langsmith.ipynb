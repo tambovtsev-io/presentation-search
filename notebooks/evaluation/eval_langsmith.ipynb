{
 "cells": [
  {
   "cell_type": "code",
   "execution_count": 1,
   "metadata": {},
   "outputs": [
    {
     "data": {
      "text/plain": [
       "True"
      ]
     },
     "execution_count": 1,
     "metadata": {},
     "output_type": "execute_result"
    }
   ],
   "source": [
    "%load_ext autoreload\n",
    "%autoreload 2\n",
    "import sys, os\n",
    "sys.path.append(os.path.abspath(\"../../\"))\n",
    "from dotenv import load_dotenv\n",
    "load_dotenv()"
   ]
  },
  {
   "cell_type": "code",
   "execution_count": 2,
   "metadata": {},
   "outputs": [],
   "source": [
    "from src.config import Config\n",
    "from src.rag import ChromaSlideStore\n",
    "import pandas as pd\n",
    "\n",
    "from src.eval import EvaluationConfig, RAGEvaluator\n",
    "from src.config import load_spreadsheet\n",
    "\n",
    "from langchain.callbacks import tracing_v2_enabled\n",
    "\n",
    "config = Config()"
   ]
  },
  {
   "cell_type": "code",
   "execution_count": 3,
   "metadata": {},
   "outputs": [],
   "source": [
    "# Enable LangSmith tracing\n",
    "os.environ[\"LANGCHAIN_TRACING_V2\"] = \"true\"\n",
    "os.environ[\"LANGCHAIN_ENDPOINT\"] = \"https://api.smith.langchain.com\"\n",
    "os.environ[\"LANGCHAIN_PROJECT\"] = \"default\""
   ]
  },
  {
   "cell_type": "code",
   "execution_count": 4,
   "metadata": {},
   "outputs": [
    {
     "data": {
      "text/html": [
       "<div>\n",
       "<style scoped>\n",
       "    .dataframe tbody tr th:only-of-type {\n",
       "        vertical-align: middle;\n",
       "    }\n",
       "\n",
       "    .dataframe tbody tr th {\n",
       "        vertical-align: top;\n",
       "    }\n",
       "\n",
       "    .dataframe thead th {\n",
       "        text-align: right;\n",
       "    }\n",
       "</style>\n",
       "<table border=\"1\" class=\"dataframe\">\n",
       "  <thead>\n",
       "    <tr style=\"text-align: right;\">\n",
       "      <th></th>\n",
       "      <th>pres_name</th>\n",
       "      <th>question</th>\n",
       "      <th>page</th>\n",
       "      <th>content</th>\n",
       "      <th>comment</th>\n",
       "      <th>MinScorer</th>\n",
       "      <th>Hyperbolic Scorer</th>\n",
       "    </tr>\n",
       "  </thead>\n",
       "  <tbody>\n",
       "    <tr>\n",
       "      <th>8</th>\n",
       "      <td>Kept_Подвижной состав РФ_2024 (20 стр)</td>\n",
       "      <td>Про что рассказывал Сергей Казачков?</td>\n",
       "      <td>2,20</td>\n",
       "      <td>text</td>\n",
       "      <td>NaN</td>\n",
       "      <td>PASS</td>\n",
       "      <td>PASS</td>\n",
       "    </tr>\n",
       "    <tr>\n",
       "      <th>10</th>\n",
       "      <td>4.Обзор уязвимостей и техник защиты для LLM_Ев...</td>\n",
       "      <td>Презентация с мемом про Трампа</td>\n",
       "      <td>15</td>\n",
       "      <td>general</td>\n",
       "      <td>NaN</td>\n",
       "      <td>NaN</td>\n",
       "      <td>NaN</td>\n",
       "    </tr>\n",
       "    <tr>\n",
       "      <th>24</th>\n",
       "      <td>2.Kolmogorov Arnold Networks_Павел Плюснин_вер.2</td>\n",
       "      <td>Презентация про нейросети Колмогорова-Арнольда</td>\n",
       "      <td></td>\n",
       "      <td>general</td>\n",
       "      <td>NaN</td>\n",
       "      <td>NaN</td>\n",
       "      <td>NaN</td>\n",
       "    </tr>\n",
       "    <tr>\n",
       "      <th>13</th>\n",
       "      <td>2. Пристягина Матрицы компетенций</td>\n",
       "      <td>Презентация с картинкой единорога</td>\n",
       "      <td></td>\n",
       "      <td>visual</td>\n",
       "      <td>на многих слайдах</td>\n",
       "      <td>NaN</td>\n",
       "      <td>NaN</td>\n",
       "    </tr>\n",
       "    <tr>\n",
       "      <th>2</th>\n",
       "      <td>ЯиП_Энергетический_переход_Вызовы_и_возможност...</td>\n",
       "      <td>В какой презентации была таблица с источниками...</td>\n",
       "      <td>16</td>\n",
       "      <td>visual</td>\n",
       "      <td>NaN</td>\n",
       "      <td>PASS</td>\n",
       "      <td>PASS</td>\n",
       "    </tr>\n",
       "  </tbody>\n",
       "</table>\n",
       "</div>"
      ],
      "text/plain": [
       "                                            pres_name  \\\n",
       "8              Kept_Подвижной состав РФ_2024 (20 стр)   \n",
       "10  4.Обзор уязвимостей и техник защиты для LLM_Ев...   \n",
       "24   2.Kolmogorov Arnold Networks_Павел Плюснин_вер.2   \n",
       "13                 2. Пристягина Матрицы компетенций   \n",
       "2   ЯиП_Энергетический_переход_Вызовы_и_возможност...   \n",
       "\n",
       "                                             question  page  content  \\\n",
       "8                Про что рассказывал Сергей Казачков?  2,20     text   \n",
       "10                     Презентация с мемом про Трампа    15  general   \n",
       "24     Презентация про нейросети Колмогорова-Арнольда        general   \n",
       "13                  Презентация с картинкой единорога         visual   \n",
       "2   В какой презентации была таблица с источниками...    16   visual   \n",
       "\n",
       "              comment MinScorer Hyperbolic Scorer  \n",
       "8                 NaN      PASS              PASS  \n",
       "10                NaN       NaN               NaN  \n",
       "24                NaN       NaN               NaN  \n",
       "13  на многих слайдах       NaN               NaN  \n",
       "2                 NaN      PASS              PASS  "
      ]
     },
     "execution_count": 4,
     "metadata": {},
     "output_type": "execute_result"
    }
   ],
   "source": [
    "from src.rag.score import (\n",
    "    ExponentialScorer, HyperbolicScorer, MinScorer,\n",
    "    ExponentialWeightedScorer, HyperbolicWeightedScorer\n",
    ")\n",
    "from src.eval.evaluate import (\n",
    "    page_found, page_match, presentation_found,\n",
    "    presentation_match, create_llm_relevance_evaluator,\n",
    "    n_pages, n_pres\n",
    ")\n",
    "\n",
    "\n",
    "# Initialize components\n",
    "embeddings = config.embedding_config.load_vsegpt()\n",
    "storage = ChromaSlideStore(collection_name=\"pres0\", embedding_model=embeddings)\n",
    "\n",
    "\n",
    "# Load questions if needed\n",
    "sheet_id = os.environ[\"BENCHMARK_SPREADSHEET_ID\"]\n",
    "df_questions = RAGEvaluator.load_questions_from_sheet(sheet_id)\n",
    "df_questions.sample(5)"
   ]
  },
  {
   "cell_type": "code",
   "execution_count": 8,
   "metadata": {},
   "outputs": [
    {
     "name": "stdout",
     "output_type": "stream",
     "text": [
      "Using existing dataset: PresRetrieve_25\n"
     ]
    },
    {
     "data": {
      "text/plain": [
       "Dataset(name='PresRetrieve_25', description=None, data_type=<DataType.kv: 'kv'>, id=UUID('e25f48e1-fd33-4a9d-aca2-d19232ad1a34'), created_at=datetime.datetime(2024, 12, 6, 10, 0, 7, 865953, tzinfo=datetime.timezone.utc), modified_at=datetime.datetime(2024, 12, 6, 10, 0, 7, 865953, tzinfo=datetime.timezone.utc), example_count=25, session_count=5, last_session_start_time=datetime.datetime(2024, 12, 6, 10, 25, 52, 357159), inputs_schema=None, outputs_schema=None)"
      ]
     },
     "execution_count": 8,
     "metadata": {},
     "output_type": "execute_result"
    }
   ],
   "source": [
    "dataset_name = \"PresRetrieve_25\"\n",
    "df_eval = df_questions\n",
    "scorers = [MinScorer(), ExponentialScorer(), HyperbolicScorer(), ExponentialWeightedScorer(), HyperbolicWeightedScorer()]\n",
    "scorers = [HyperbolicWeightedScorer()]\n",
    "\n",
    "# dataset_name = \"PresRetrieve_5\"\n",
    "# df_eval = df_questions.sample(5)\n",
    "# scorers = [MinScorer(), HyperbolicScorer() ]\n",
    "\n",
    "llm = Config().model_config.load_vsegpt(model=\"openai/gpt-4o-mini\", temperature=0.1)\n",
    "\n",
    "eval_config = EvaluationConfig(\n",
    "    dataset_name=dataset_name,\n",
    "    evaluators=[\n",
    "        presentation_match,\n",
    "        page_match,\n",
    "        presentation_found,\n",
    "        page_found,\n",
    "        create_llm_relevance_evaluator(llm),\n",
    "        n_pages,\n",
    "        n_pres\n",
    "    ],\n",
    "    scorers=scorers,\n",
    "    max_concurrency=1\n",
    ")\n",
    "\n",
    "evaluator = RAGEvaluator(storage=storage, config=eval_config, llm=llm)\n",
    "evaluator.create_or_load_dataset(df_eval)\n",
    "# evaluator.create_dataset(dataset_name+\"test\", df_eval)\n"
   ]
  },
  {
   "cell_type": "code",
   "execution_count": 9,
   "metadata": {},
   "outputs": [
    {
     "name": "stdout",
     "output_type": "stream",
     "text": [
      "View the evaluation results for experiment: 'hyperbolicweighted_k2.0_p3.0-aa5bda8e' at:\n",
      "https://smith.langchain.com/o/44cd8e12-235d-52ea-a8de-1063f25bb9a4/datasets/e25f48e1-fd33-4a9d-aca2-d19232ad1a34/compare?selectedSessions=1f5f916b-eb71-4f02-aa77-f61f47d73477\n",
      "\n",
      "\n"
     ]
    },
    {
     "data": {
      "application/vnd.jupyter.widget-view+json": {
       "model_id": "9e3d85e8fd6f4bf8aa8810b8e8dd2276",
       "version_major": 2,
       "version_minor": 0
      },
      "text/plain": [
       "0it [00:00, ?it/s]"
      ]
     },
     "metadata": {},
     "output_type": "display_data"
    }
   ],
   "source": [
    "import nest_asyncio\n",
    "nest_asyncio.apply()\n",
    "# Run evaluation\n",
    "evaluator.run_evaluation()"
   ]
  },
  {
   "cell_type": "code",
   "execution_count": null,
   "metadata": {},
   "outputs": [],
   "source": []
  }
 ],
 "metadata": {
  "kernelspec": {
   "display_name": ".venv",
   "language": "python",
   "name": "python3"
  },
  "language_info": {
   "codemirror_mode": {
    "name": "ipython",
    "version": 3
   },
   "file_extension": ".py",
   "mimetype": "text/x-python",
   "name": "python",
   "nbconvert_exporter": "python",
   "pygments_lexer": "ipython3",
   "version": "3.10.12"
  }
 },
 "nbformat": 4,
 "nbformat_minor": 2
}
